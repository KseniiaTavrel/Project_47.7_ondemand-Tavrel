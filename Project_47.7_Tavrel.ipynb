{
 "cells": [
  {
   "cell_type": "markdown",
   "id": "bfab9e3b-918e-4588-9a62-41e3d1bd4175",
   "metadata": {},
   "source": [
    "# Определение количества ботов на сайте"
   ]
  },
  {
   "cell_type": "markdown",
   "id": "a186dd9c-71f5-409b-a19d-5fa7ed31f70d",
   "metadata": {},
   "source": [
    "##### Подготовка. \n",
    "Получаем данные с помощью get-запроса и формирования параметров. Найдём процент ботов от общего числа визитов за сентябрь 2020 года, с группировками по источнику и времени."
   ]
  },
  {
   "cell_type": "code",
   "execution_count": 1,
   "id": "dfff06f1-527c-410e-a261-9b3338c55f51",
   "metadata": {},
   "outputs": [
    {
     "name": "stdout",
     "output_type": "stream",
     "text": [
      "200\n"
     ]
    }
   ],
   "source": [
    "import json\n",
    "import requests\n",
    "from pprint import pprint\n",
    "import pandas as pd\n",
    "\n",
    "token = 'AQAAAAA45CCcAAedM6tbmmuHP0IChtThvrF9Ql4'\n",
    "headers = {'Authorization':'OAuth' + token} \n",
    "params = {'metrics': 'ym:s:visits,ym:s:robotPercentage',\n",
    "          'dimensions': 'ym:s:lastsignTrafficSource,ym:s:hour',\n",
    "          'date1': '2020-09-01',\n",
    "          'date2': '2020-09-30',\n",
    "          'limit':100000,\n",
    "          'ids': 30177909,\n",
    "          'accuracy':'full'}\n",
    "response = requests.get('https://api-metrika.yandex.net/stat/v1/data', params=params, headers=headers)\n",
    "print (response.status_code)\n",
    "metrica_data = response.json()"
   ]
  },
  {
   "cell_type": "markdown",
   "id": "975a1338-e039-47c3-bd02-15c0dde743d8",
   "metadata": {},
   "source": [
    "Убедились, что данные по запросу нам доступны.\n",
    "Теперь напишем функцию, которая поможет перевести наши данные в ДатаФрейм.\n",
    "Функция создаст список словарей."
   ]
  },
  {
   "cell_type": "code",
   "execution_count": 2,
   "id": "ef1db236-e251-4fbc-bb41-c2b2e188c843",
   "metadata": {},
   "outputs": [],
   "source": [
    "def getMetrikaDataInListOfDict(metrica_data):\n",
    "    list_of_dict = []\n",
    "    dimensions_list = metrica_data['query']['dimensions'] # Список группировок которые мы запрашивали\n",
    "    metrics_list = metrica_data['query']['metrics'] # Список метрик которые мы запрашивали\n",
    "    for data_item in metrica_data['data']: # Обращаемся уже к данным, список данных отправляем в переменную\n",
    "        d = {} #  Пустой словарь\n",
    "        for i, dimensions in enumerate(data_item['dimensions']):\n",
    "            d[dimensions_list[i]] = dimensions['name'] # Отправляем данные в словарь, ключ - номер, значение -\n",
    "            # список значений наших группировок\n",
    "        for i, metric in enumerate(data_item['metrics']):\n",
    "            d[metrics_list[i]] = metric\n",
    "        list_of_dict.append(d)\n",
    "    return list_of_dict"
   ]
  },
  {
   "cell_type": "markdown",
   "id": "3e59e31c-0113-4b7e-b859-575c31fd52c9",
   "metadata": {},
   "source": [
    "##### Работа с Датафреймом\n",
    "Обработаем данные с помощью функции, переведём в ДатаФрейм.\n",
    "Добавим столбец, который считает количество роботов."
   ]
  },
  {
   "cell_type": "code",
   "execution_count": 3,
   "id": "d8e10a20-d2ae-455f-a800-c9318ecf750e",
   "metadata": {},
   "outputs": [
    {
     "name": "stdout",
     "output_type": "stream",
     "text": [
      "                  Source   Hour  Visits  RobotPercent  RobotCount\n",
      "0  Search engine traffic  16:00   251.0     24.701195        62.0\n",
      "1  Search engine traffic  15:00   240.0     26.250000        63.0\n",
      "2  Search engine traffic  11:00   228.0     25.877193        59.0\n",
      "3  Search engine traffic  13:00   227.0     28.193833        64.0\n",
      "4  Search engine traffic  12:00   225.0     24.888889        56.0\n"
     ]
    }
   ],
   "source": [
    "metrika_list_if_dict = getMetrikaDataInListOfDict(metrica_data) # Получился список словарей\n",
    "metrica_df = pd.DataFrame(metrika_list_if_dict)\n",
    "metrica_df.columns = ['Source', 'Hour', 'Visits', 'RobotPercent']\n",
    "metrica_df['RobotCount'] = round(metrica_df['Visits'] / 100 * metrica_df['RobotPercent'])\n",
    "print(metrica_df.head(5))"
   ]
  },
  {
   "cell_type": "markdown",
   "id": "fe6a3b3c-aa7e-43e7-abc5-d5a8a6ddbd03",
   "metadata": {},
   "source": [
    "#### Задача 1. Оценить количество ботов, которые заходят на наш сайт, и их долю от всего трафика."
   ]
  },
  {
   "cell_type": "code",
   "execution_count": 4,
   "id": "e51d2620-cef9-4700-b115-9d5199a5bf46",
   "metadata": {},
   "outputs": [
    {
     "name": "stdout",
     "output_type": "stream",
     "text": [
      "Общее количество роботов, посетивших сайт в сентябре 2020 года: 962.0\n",
      "Процент роботов от общего числа визитов на сайт в сентябре 2020 года: 22.29%\n"
     ]
    }
   ],
   "source": [
    "robot_total = metrica_df['RobotCount'].sum()\n",
    "print('Общее количество роботов, посетивших сайт в сентябре 2020 года: {}'.format(robot_total))\n",
    "robot_total_percent = round((robot_total / metrica_df['Visits'].sum()), 4)\n",
    "print('Процент роботов от общего числа визитов на сайт в сентябре 2020 года: {}%'.format(robot_total_percent*100))"
   ]
  },
  {
   "cell_type": "markdown",
   "id": "a2b1feaf-ed01-4552-954e-2e90556ee242",
   "metadata": {},
   "source": [
    "#### Задача 2. Определить, с каких источников и в какое время суток чаще всего заходят роботы."
   ]
  },
  {
   "cell_type": "markdown",
   "id": "ce5059ea-9a85-41f8-a318-2bf5f8380e06",
   "metadata": {},
   "source": [
    "##### 2.1. Определяем источник с самым большим количеством роботов."
   ]
  },
  {
   "cell_type": "code",
   "execution_count": 6,
   "id": "14763ad8-6749-4844-9d50-acb2e3c1d70b",
   "metadata": {},
   "outputs": [
    {
     "name": "stdout",
     "output_type": "stream",
     "text": [
      "Источник, из которого чаще всего роботы заходят на сайт: Search engine traffic\n"
     ]
    }
   ],
   "source": [
    "metrica_df_source = metrica_df.groupby(['Source'])['RobotCount'].sum().sort_values(ascending=False)\n",
    "max_robot_source = metrica_df_source[metrica_df_source == metrica_df_source.max()].index[0]\n",
    "print('Источник, из которого чаще всего роботы заходят на сайт: {}'.format(max_robot_source))"
   ]
  },
  {
   "cell_type": "markdown",
   "id": "3b6e1c98-007b-402f-908a-4f3c8f7f4f41",
   "metadata": {},
   "source": [
    "##### 2.2. Определяем час, в который заходит наибольшее количество роботов."
   ]
  },
  {
   "cell_type": "code",
   "execution_count": 7,
   "id": "4ab8fe72-417d-4c12-b1c8-66966c221c7b",
   "metadata": {},
   "outputs": [
    {
     "name": "stdout",
     "output_type": "stream",
     "text": [
      "Время, в которое чаще всего роботы заходят на сайт: 13:00\n"
     ]
    }
   ],
   "source": [
    "metrica_df_time = metrica_df.groupby(['Hour'])['RobotCount'].sum().sort_values(ascending=False)\n",
    "max_robot_time = metrica_df_time[metrica_df_time == metrica_df_time.max()].index[0]\n",
    "print('Время, в которое чаще всего роботы заходят на сайт: {}'.format(max_robot_time))"
   ]
  },
  {
   "cell_type": "markdown",
   "id": "6e774784-93d6-4f2c-9db1-240940575c56",
   "metadata": {},
   "source": [
    "##### 2.3. Определяем время суток, в которое заходит наибольшее количество роботов."
   ]
  },
  {
   "cell_type": "markdown",
   "id": "0110745f-232c-45f1-82fe-948295164acd",
   "metadata": {},
   "source": [
    "Для этого переведём часы в формат времени, извлечём час. И создатим доплнительный столбец с временем суток с помощью функции."
   ]
  },
  {
   "cell_type": "code",
   "execution_count": 8,
   "id": "dcb7dd91-8b4f-4c67-babb-9948caa40441",
   "metadata": {},
   "outputs": [
    {
     "name": "stdout",
     "output_type": "stream",
     "text": [
      "Время суток, в которое чаще всего роботы заходят на сайт: day\n"
     ]
    }
   ],
   "source": [
    "metrica_df['Hour'] = pd.to_datetime(metrica_df['Hour']).dt.hour\n",
    "def get_daytime(hour):\n",
    "    if hour >= 0 and hour <= 6:\n",
    "        return 'night'\n",
    "    if hour > 6 and hour <= 12:\n",
    "        return 'morning'\n",
    "    if hour > 12 and hour <= 18:\n",
    "        return 'day'\n",
    "    if hour > 18 and hour < 24:\n",
    "        return 'evening'\n",
    "    \n",
    "metrica_df['Daytime'] = metrica_df['Hour'].apply(get_daytime)\n",
    "metrica_df_daytime = metrica_df.groupby(['Daytime'])['RobotCount'].sum().sort_values(ascending=False)\n",
    "max_robot_daytime = metrica_df_daytime[metrica_df_daytime == metrica_df_daytime.max()].index[0]\n",
    "print('Время суток, в которое чаще всего роботы заходят на сайт: {}'.format(max_robot_daytime))"
   ]
  },
  {
   "cell_type": "markdown",
   "id": "569f8073-1ccd-4f78-8f0e-975d180a5e3f",
   "metadata": {},
   "source": [
    "### Выводы.\n",
    "#### 1. Из всех посещений в сентябре 2020 года более 22% пришлось на роботов\n",
    "#### 2. Роботы чаще всего заходят из источника \"Search engine traffic\"\n",
    "#### 3. Роботы чаще всего заходят в дневное время суток, наиболее часто - около 13:00"
   ]
  },
  {
   "cell_type": "code",
   "execution_count": null,
   "id": "d7f24501-c436-4ce6-a81f-bbb692ead64f",
   "metadata": {},
   "outputs": [],
   "source": []
  }
 ],
 "metadata": {
  "kernelspec": {
   "display_name": "Python 3 (ipykernel)",
   "language": "python",
   "name": "python3"
  },
  "language_info": {
   "codemirror_mode": {
    "name": "ipython",
    "version": 3
   },
   "file_extension": ".py",
   "mimetype": "text/x-python",
   "name": "python",
   "nbconvert_exporter": "python",
   "pygments_lexer": "ipython3",
   "version": "3.9.9"
  }
 },
 "nbformat": 4,
 "nbformat_minor": 5
}
